{
 "cells": [
  {
   "cell_type": "code",
   "execution_count": 1,
   "metadata": {},
   "outputs": [],
   "source": [
    "# import necessary libraries\n",
    "import pandas as pd\n",
    "import matplotlib.pyplot as plt\n",
    "import seaborn as sns\n",
    "\n",
    "# Import KMeans clutering class\n",
    "from sklearn.cluster import KMeans\n",
    "\n",
    "# Import silhouette_score function\n",
    "from sklearn.metrics import silhouette_score "
   ]
  },
  {
   "cell_type": "markdown",
   "metadata": {},
   "source": [
    "## Load the data and apply preprocessing"
   ]
  },
  {
   "cell_type": "markdown",
   "metadata": {},
   "source": [
    "### Load the data and merge the necessary information"
   ]
  },
  {
   "cell_type": "code",
   "execution_count": 2,
   "metadata": {},
   "outputs": [],
   "source": [
    "# load the datasets\n",
    "sch_stat_df = pd.read_excel('Datasets/scottish_schools_stats.xlsx')\n",
    "sch_info_df = pd.read_excel('Datasets/scottish_schools_contact.xlsx', sheet_name='Open Schools')\n",
    "dep_df = pd.read_excel('Datasets/postcode_deprivation.xlsx')"
   ]
  },
  {
   "cell_type": "code",
   "execution_count": 3,
   "metadata": {},
   "outputs": [],
   "source": [
    "# change Seed Code name to be matched with the stat dataset\n",
    "sch_info = sch_info_df.rename(columns={'Seed Code' : 'SeedCode'})"
   ]
  },
  {
   "cell_type": "code",
   "execution_count": 4,
   "metadata": {},
   "outputs": [],
   "source": [
    "# merge info and stat datasets\n",
    "sch_df = sch_info.merge(sch_stat_df, on='SeedCode', how='left')"
   ]
  },
  {
   "cell_type": "code",
   "execution_count": 5,
   "metadata": {},
   "outputs": [],
   "source": [
    "columns_to_remove = ['School Name_y', 'Centre Type', 'Address Line1',\n",
    "       'Address Line2', 'Address Line3', 'Unique Property Reference Number (UPRN)', 'Email', 'Phone Number',\n",
    "       'Website Address', 'Pre-school Department', 'Primary Department',\n",
    "       'Secondary Department', 'Special Department', 'Gaelic Unit',\n",
    "       'Integrated Special Unit', 'Denomination', 'Local Authority']\n",
    "\n",
    "\n",
    "sch_df.drop(columns=columns_to_remove, inplace=True)\n",
    "sch_df = sch_df.rename(columns={'School Name_x' : 'School Name'})\n",
    "sch_df = sch_df.rename(columns={'LA Name' : 'Local Authority'})"
   ]
  },
  {
   "cell_type": "code",
   "execution_count": 6,
   "metadata": {},
   "outputs": [],
   "source": [
    "# create a function to return the deprivation value\n",
    "def get_dep(pos):\n",
    "    try:\n",
    "        dep_value = dep_df[dep_df['Postcode'] == pos]['SIMD2020v2_Quintile'].values[0]\n",
    "        return dep_value\n",
    "    \n",
    "    except:\n",
    "        return None"
   ]
  },
  {
   "cell_type": "code",
   "execution_count": 7,
   "metadata": {},
   "outputs": [],
   "source": [
    "# Add the deprivaion quintile value for each school\n",
    "sch_df['Deprivation Quintile'] = list(map(get_dep, sch_df['Post Code']))"
   ]
  },
  {
   "cell_type": "code",
   "execution_count": 8,
   "metadata": {},
   "outputs": [],
   "source": [
    "# drop null values\n",
    "sch_df = sch_df.dropna()"
   ]
  },
  {
   "cell_type": "code",
   "execution_count": 11,
   "metadata": {},
   "outputs": [],
   "source": [
    "# Group the school data by local authority\n",
    "data = {\n",
    "    'Pupils': sch_df.groupby('Local Authority').mean(numeric_only=True)['Total pupils'],\n",
    "    'DeprivationScore': sch_df.groupby('Local Authority').mean(numeric_only=True)['Deprivation Quintile'],\n",
    "}\n",
    "\n",
    "# Create a DataFrame from the sample data\n",
    "df = pd.DataFrame(data)"
   ]
  },
  {
   "cell_type": "markdown",
   "metadata": {},
   "source": [
    "### Preprocessing"
   ]
  },
  {
   "cell_type": "code",
   "execution_count": 12,
   "metadata": {},
   "outputs": [
    {
     "data": {
      "text/html": [
       "<div>\n",
       "<style scoped>\n",
       "    .dataframe tbody tr th:only-of-type {\n",
       "        vertical-align: middle;\n",
       "    }\n",
       "\n",
       "    .dataframe tbody tr th {\n",
       "        vertical-align: top;\n",
       "    }\n",
       "\n",
       "    .dataframe thead th {\n",
       "        text-align: right;\n",
       "    }\n",
       "</style>\n",
       "<table border=\"1\" class=\"dataframe\">\n",
       "  <thead>\n",
       "    <tr style=\"text-align: right;\">\n",
       "      <th></th>\n",
       "      <th>Pupils</th>\n",
       "      <th>DeprivationScore</th>\n",
       "    </tr>\n",
       "  </thead>\n",
       "  <tbody>\n",
       "    <tr>\n",
       "      <th>count</th>\n",
       "      <td>33.00</td>\n",
       "      <td>33.00</td>\n",
       "    </tr>\n",
       "    <tr>\n",
       "      <th>mean</th>\n",
       "      <td>0.00</td>\n",
       "      <td>-0.00</td>\n",
       "    </tr>\n",
       "    <tr>\n",
       "      <th>std</th>\n",
       "      <td>1.02</td>\n",
       "      <td>1.02</td>\n",
       "    </tr>\n",
       "    <tr>\n",
       "      <th>min</th>\n",
       "      <td>-1.75</td>\n",
       "      <td>-1.87</td>\n",
       "    </tr>\n",
       "    <tr>\n",
       "      <th>25%</th>\n",
       "      <td>-0.61</td>\n",
       "      <td>-0.80</td>\n",
       "    </tr>\n",
       "    <tr>\n",
       "      <th>50%</th>\n",
       "      <td>0.17</td>\n",
       "      <td>0.04</td>\n",
       "    </tr>\n",
       "    <tr>\n",
       "      <th>75%</th>\n",
       "      <td>0.83</td>\n",
       "      <td>0.87</td>\n",
       "    </tr>\n",
       "    <tr>\n",
       "      <th>max</th>\n",
       "      <td>2.45</td>\n",
       "      <td>1.65</td>\n",
       "    </tr>\n",
       "  </tbody>\n",
       "</table>\n",
       "</div>"
      ],
      "text/plain": [
       "       Pupils  DeprivationScore\n",
       "count   33.00             33.00\n",
       "mean     0.00             -0.00\n",
       "std      1.02              1.02\n",
       "min     -1.75             -1.87\n",
       "25%     -0.61             -0.80\n",
       "50%      0.17              0.04\n",
       "75%      0.83              0.87\n",
       "max      2.45              1.65"
      ]
     },
     "execution_count": 12,
     "metadata": {},
     "output_type": "execute_result"
    }
   ],
   "source": [
    "# specify the numerical features\n",
    "numeric_columns = ['Pupils', 'DeprivationScore']\n",
    "\n",
    "# Import standard scaler to z-score normalize the data\n",
    "from sklearn.preprocessing import StandardScaler\n",
    "\n",
    "# Create a scaler object\n",
    "scaler = StandardScaler()\n",
    "\n",
    "# Scale the numeric columns\n",
    "scaled_values = scaler.fit_transform(df[numeric_columns])\n",
    "\n",
    "# Sonvert the numpy array of scaled values into a dataframe\n",
    "scaled_values = pd.DataFrame(scaled_values, columns = numeric_columns)\n",
    "\n",
    "# Describe the scaled columns: each has 0 mean and 1 standard deviation\n",
    "scaled_values.describe().round(2)"
   ]
  },
  {
   "cell_type": "markdown",
   "metadata": {},
   "source": [
    "## K-Means Clustering"
   ]
  },
  {
   "cell_type": "markdown",
   "metadata": {},
   "source": [
    "### Find the best k - the number of clusters to be formed"
   ]
  },
  {
   "cell_type": "markdown",
   "metadata": {},
   "source": [
    "Within-Cluster Sum of Squares (WCSS) method"
   ]
  },
  {
   "cell_type": "code",
   "execution_count": 13,
   "metadata": {},
   "outputs": [
    {
     "data": {
      "image/png": "[encoded data removed]",
      "text/plain": [
       "<Figure size 800x600 with 1 Axes>"
      ]
     },
     "metadata": {},
     "output_type": "display_data"
    }
   ],
   "source": [
    "# Create a list to store WCSS values\n",
    "wcss = []\n",
    "\n",
    "# Iterate in a range from 2 to 10, inclusive\n",
    "for k in range(2, 11):\n",
    "    km = KMeans(n_clusters = k, n_init = 25, random_state = 1234) # Create a cluster object for each k\n",
    "    km.fit(scaled_values) # Fit the scaled data\n",
    "    wcss.append(km.inertia_) # Add the inertia score to wcss list\n",
    "\n",
    "# Convert the wcss list into a pandas series object\n",
    "wcss_series = pd.Series(wcss, index = range(2, 11))\n",
    "\n",
    "# Draw a line chart showing the inertia score, or WCSS, for each k iterated\n",
    "plt.figure(figsize=(8, 6))\n",
    "ax = sns.lineplot(y = wcss_series, x = wcss_series.index)\n",
    "ax = sns.scatterplot(y = wcss_series, x = wcss_series.index, s = 150)\n",
    "ax = ax.set(xlabel = 'Number of Clusters (k)', \n",
    "            ylabel = 'Within Cluster Sum of Squares (WCSS)')"
   ]
  },
  {
   "cell_type": "markdown",
   "metadata": {},
   "source": [
    "Average Silhouette Method"
   ]
  },
  {
   "cell_type": "code",
   "execution_count": 14,
   "metadata": {},
   "outputs": [
    {
     "data": {
      "image/png": "[encoded data removed]",
      "text/plain": [
       "<Figure size 800x600 with 1 Axes>"
      ]
     },
     "metadata": {},
     "output_type": "display_data"
    }
   ],
   "source": [
    "# Create a list to store silhouette values\n",
    "silhouette = []\n",
    "\n",
    "# Iterate in a range from 2 to 10, inclusive\n",
    "for k in range(2, 11):\n",
    "    km = KMeans(n_clusters = k, n_init = 25, random_state = 1234) # Create a cluster object for each k\n",
    "    km.fit(scaled_values) # Fit the scaled data\n",
    "    silhouette.append(silhouette_score(scaled_values, km.labels_)) # Add the silhouette score to silhouette list\n",
    "\n",
    "# Convert the silhouette list into a pandas series object\n",
    "silhouette_series = pd.Series(silhouette, index = range(2, 11))\n",
    "\n",
    "# Draw a line chart showing the average silhouette score for each k iterated\n",
    "plt.figure(figsize=(8, 6))\n",
    "ax = sns.lineplot(y = silhouette_series, x = silhouette_series.index, color='green')\n",
    "ax = sns.scatterplot(y = silhouette_series, x = silhouette_series.index, s = 150, color='green')\n",
    "ax = ax.set(xlabel = 'Number of Clusters (k)', \n",
    "            ylabel = 'Average Silhouette Score')"
   ]
  },
  {
   "cell_type": "markdown",
   "metadata": {},
   "source": [
    "From both methods, we can conclude that 3 is the best number of clusters"
   ]
  },
  {
   "cell_type": "markdown",
   "metadata": {},
   "source": [
    "### Apply K-Means Clustering"
   ]
  },
  {
   "cell_type": "code",
   "execution_count": 15,
   "metadata": {},
   "outputs": [
    {
     "data": {
      "text/html": [
       "<style>#sk-container-id-1 {color: black;background-color: white;}#sk-container-id-1 pre{padding: 0;}#sk-container-id-1 div.sk-toggleable {background-color: white;}#sk-container-id-1 label.sk-toggleable__label {cursor: pointer;display: block;width: 100%;margin-bottom: 0;padding: 0.3em;box-sizing: border-box;text-align: center;}#sk-container-id-1 label.sk-toggleable__label-arrow:before {content: \"▸\";float: left;margin-right: 0.25em;color: #696969;}#sk-container-id-1 label.sk-toggleable__label-arrow:hover:before {color: black;}#sk-container-id-1 div.sk-estimator:hover label.sk-toggleable__label-arrow:before {color: black;}#sk-container-id-1 div.sk-toggleable__content {max-height: 0;max-width: 0;overflow: hidden;text-align: left;background-color: #f0f8ff;}#sk-container-id-1 div.sk-toggleable__content pre {margin: 0.2em;color: black;border-radius: 0.25em;background-color: #f0f8ff;}#sk-container-id-1 input.sk-toggleable__control:checked~div.sk-toggleable__content {max-height: 200px;max-width: 100%;overflow: auto;}#sk-container-id-1 input.sk-toggleable__control:checked~label.sk-toggleable__label-arrow:before {content: \"▾\";}#sk-container-id-1 div.sk-estimator input.sk-toggleable__control:checked~label.sk-toggleable__label {background-color: #d4ebff;}#sk-container-id-1 div.sk-label input.sk-toggleable__control:checked~label.sk-toggleable__label {background-color: #d4ebff;}#sk-container-id-1 input.sk-hidden--visually {border: 0;clip: rect(1px 1px 1px 1px);clip: rect(1px, 1px, 1px, 1px);height: 1px;margin: -1px;overflow: hidden;padding: 0;position: absolute;width: 1px;}#sk-container-id-1 div.sk-estimator {font-family: monospace;background-color: #f0f8ff;border: 1px dotted black;border-radius: 0.25em;box-sizing: border-box;margin-bottom: 0.5em;}#sk-container-id-1 div.sk-estimator:hover {background-color: #d4ebff;}#sk-container-id-1 div.sk-parallel-item::after {content: \"\";width: 100%;border-bottom: 1px solid gray;flex-grow: 1;}#sk-container-id-1 div.sk-label:hover label.sk-toggleable__label {background-color: #d4ebff;}#sk-container-id-1 div.sk-serial::before {content: \"\";position: absolute;border-left: 1px solid gray;box-sizing: border-box;top: 0;bottom: 0;left: 50%;z-index: 0;}#sk-container-id-1 div.sk-serial {display: flex;flex-direction: column;align-items: center;background-color: white;padding-right: 0.2em;padding-left: 0.2em;position: relative;}#sk-container-id-1 div.sk-item {position: relative;z-index: 1;}#sk-container-id-1 div.sk-parallel {display: flex;align-items: stretch;justify-content: center;background-color: white;position: relative;}#sk-container-id-1 div.sk-item::before, #sk-container-id-1 div.sk-parallel-item::before {content: \"\";position: absolute;border-left: 1px solid gray;box-sizing: border-box;top: 0;bottom: 0;left: 50%;z-index: -1;}#sk-container-id-1 div.sk-parallel-item {display: flex;flex-direction: column;z-index: 1;position: relative;background-color: white;}#sk-container-id-1 div.sk-parallel-item:first-child::after {align-self: flex-end;width: 50%;}#sk-container-id-1 div.sk-parallel-item:last-child::after {align-self: flex-start;width: 50%;}#sk-container-id-1 div.sk-parallel-item:only-child::after {width: 0;}#sk-container-id-1 div.sk-dashed-wrapped {border: 1px dashed gray;margin: 0 0.4em 0.5em 0.4em;box-sizing: border-box;padding-bottom: 0.4em;background-color: white;}#sk-container-id-1 div.sk-label label {font-family: monospace;font-weight: bold;display: inline-block;line-height: 1.2em;}#sk-container-id-1 div.sk-label-container {text-align: center;}#sk-container-id-1 div.sk-container {/* jupyter's `normalize.less` sets `[hidden] { display: none; }` but bootstrap.min.css set `[hidden] { display: none !important; }` so we also need the `!important` here to be able to override the default hidden behavior on the sphinx rendered scikit-learn.org. See: https://github.com/scikit-learn/scikit-learn/issues/21755 */display: inline-block !important;position: relative;}#sk-container-id-1 div.sk-text-repr-fallback {display: none;}</style><div id=\"sk-container-id-1\" class=\"sk-top-container\"><div class=\"sk-text-repr-fallback\"><pre>KMeans(n_clusters=3, n_init=25, random_state=1234)</pre><b>In a Jupyter environment, please rerun this cell to show the HTML representation or trust the notebook. <br />On GitHub, the HTML representation is unable to render, please try loading this page with nbviewer.org.</b></div><div class=\"sk-container\" hidden><div class=\"sk-item\"><div class=\"sk-estimator sk-toggleable\"><input class=\"sk-toggleable__control sk-hidden--visually\" id=\"sk-estimator-id-1\" type=\"checkbox\" checked><label for=\"sk-estimator-id-1\" class=\"sk-toggleable__label sk-toggleable__label-arrow\">KMeans</label><div class=\"sk-toggleable__content\"><pre>KMeans(n_clusters=3, n_init=25, random_state=1234)</pre></div></div></div></div></div>"
      ],
      "text/plain": [
       "KMeans(n_clusters=3, n_init=25, random_state=1234)"
      ]
     },
     "execution_count": 15,
     "metadata": {},
     "output_type": "execute_result"
    }
   ],
   "source": [
    "# Create kmeans object\n",
    "km = KMeans(n_clusters = 3, n_init = 25, random_state = 1234)\n",
    "\n",
    "# Fit the scaled values\n",
    "km.fit(scaled_values)"
   ]
  },
  {
   "cell_type": "code",
   "execution_count": 20,
   "metadata": {},
   "outputs": [
    {
     "name": "stdout",
     "output_type": "stream",
     "text": [
      "Cluster 0 has 5 local authorities\n",
      "Cluster 1 has 15 local authorities\n",
      "Cluster 2 has 13 local authorities\n"
     ]
    }
   ],
   "source": [
    "# Check out how many schools each cluster possesses\n",
    "for index in range(len(pd.Series(km.labels_).value_counts())):\n",
    "    print('Cluster',pd.Series(km.labels_).value_counts().sort_index().index[index],'has',\n",
    "          pd.Series(km.labels_).value_counts().sort_index()[index],'local authorities')"
   ]
  },
  {
   "cell_type": "code",
   "execution_count": 17,
   "metadata": {},
   "outputs": [],
   "source": [
    "# Create a dataframe storing cluster centers for each column\n",
    "cluster_centers = pd.DataFrame(km.cluster_centers_, columns = numeric_columns)"
   ]
  },
  {
   "cell_type": "code",
   "execution_count": 18,
   "metadata": {},
   "outputs": [],
   "source": [
    "# Add the cluster indicator for every single player in the dataset\n",
    "df['cluster'] = km.labels_.tolist()"
   ]
  },
  {
   "cell_type": "code",
   "execution_count": 19,
   "metadata": {},
   "outputs": [
    {
     "data": {
      "text/html": [
       "<div>\n",
       "<style scoped>\n",
       "    .dataframe tbody tr th:only-of-type {\n",
       "        vertical-align: middle;\n",
       "    }\n",
       "\n",
       "    .dataframe tbody tr th {\n",
       "        vertical-align: top;\n",
       "    }\n",
       "\n",
       "    .dataframe thead th {\n",
       "        text-align: right;\n",
       "    }\n",
       "</style>\n",
       "<table border=\"1\" class=\"dataframe\">\n",
       "  <thead>\n",
       "    <tr style=\"text-align: right;\">\n",
       "      <th></th>\n",
       "      <th>Pupils</th>\n",
       "      <th>DeprivationScore</th>\n",
       "    </tr>\n",
       "    <tr>\n",
       "      <th>cluster</th>\n",
       "      <th></th>\n",
       "      <th></th>\n",
       "    </tr>\n",
       "  </thead>\n",
       "  <tbody>\n",
       "    <tr>\n",
       "      <th>0</th>\n",
       "      <td>438.29</td>\n",
       "      <td>3.50</td>\n",
       "    </tr>\n",
       "    <tr>\n",
       "      <th>1</th>\n",
       "      <td>331.48</td>\n",
       "      <td>2.39</td>\n",
       "    </tr>\n",
       "    <tr>\n",
       "      <th>2</th>\n",
       "      <td>175.87</td>\n",
       "      <td>3.31</td>\n",
       "    </tr>\n",
       "  </tbody>\n",
       "</table>\n",
       "</div>"
      ],
      "text/plain": [
       "         Pupils  DeprivationScore\n",
       "cluster                          \n",
       "0        438.29              3.50\n",
       "1        331.48              2.39\n",
       "2        175.87              3.31"
      ]
     },
     "execution_count": 19,
     "metadata": {},
     "output_type": "execute_result"
    }
   ],
   "source": [
    "# Group the dataframe by the cluster indicators\n",
    "df.groupby('cluster').mean(numeric_only=True).round(2)"
   ]
  },
  {
   "cell_type": "code",
   "execution_count": 45,
   "metadata": {},
   "outputs": [],
   "source": [
    "from adjustText import adjust_text\n",
    "import matplotlib.pyplot as plt\n",
    "import numpy as np\n",
    "import pandas as pd\n",
    "from sklearn.cluster import KMeans\n",
    "from matplotlib.patches import Circle\n",
    "from matplotlib.lines import Line2D\n",
    "\n",
    "# Sample data (replace with your actual data)\n",
    "data = {\n",
    "    'LocalAuthority': sch_df.groupby('Local Authority').mean(numeric_only=True).index,\n",
    "    'Pupils': sch_df.groupby('Local Authority').mean(numeric_only=True)['Total pupils'],\n",
    "    'DeprivationScore': sch_df.groupby('Local Authority').mean(numeric_only=True)['Deprivation Quintile'],\n",
    "}\n",
    "\n",
    "# Create a DataFrame from the sample data\n",
    "df = pd.DataFrame(data)\n",
    "\n",
    "df['Cluster'] = km.labels_.tolist()\n",
    "\n",
    "# Define custom colors for each cluster\n",
    "custom_colors = ['red', 'blue', 'green']\n",
    "\n",
    "# Create a scatter plot with custom colors\n",
    "plt.figure(figsize=(10, 6))\n",
    "scatter = plt.scatter(df['Pupils'], df['DeprivationScore'], c=[custom_colors[i] for i in df['Cluster']], alpha=0.7)\n",
    "\n",
    "# Set labels and title\n",
    "plt.xlabel('Average Pupils Quantity')\n",
    "plt.ylabel('Average Deprivation Quintile')\n",
    "plt.title('Local Authorities Clustering')\n",
    "\n",
    "# Annotate and adjust labels to prevent overlap\n",
    "texts = [plt.text(row['Pupils'], row['DeprivationScore'], row['LocalAuthority'], fontsize=10, color=custom_colors[row['Cluster']]) for _, row in df.iterrows()]\n",
    "adjust_text(texts, arrowprops=dict(arrowstyle='->', color='black'), force_text=0.1, expand_points=(1.3, 1.3))\n",
    "\n",
    "# Create a custom legend\n",
    "legend_elements = [Line2D([0], [0], marker='o', color='w', markerfacecolor=color, markersize=10, label=f'Cluster {i}') for i, color in enumerate(custom_colors)]\n",
    "legend = plt.legend(handles=legend_elements, title='Cluster Legend', loc='lower right')\n",
    "\n",
    "# Show the plot\n",
    "plt.tight_layout()\n",
    "plt.show()\n"
   ]
  }
 ],
 "metadata": {
  "kernelspec": {
   "display_name": "Python 3",
   "language": "python",
   "name": "python3"
  },
  "language_info": {
   "codemirror_mode": {
    "name": "ipython",
    "version": 3
   },
   "file_extension": ".py",
   "mimetype": "text/x-python",
   "name": "python",
   "nbconvert_exporter": "python",
   "pygments_lexer": "ipython3",
   "version": "3.11.3"
  }
 },
 "nbformat": 4,
 "nbformat_minor": 2
}
