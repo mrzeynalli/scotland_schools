{
 "cells": [
  {
   "cell_type": "code",
   "execution_count": 1,
   "metadata": {},
   "outputs": [],
   "source": [
    "# import necessary libraries\n",
    "import pandas as pd\n",
    "import matplotlib.pyplot as plt\n",
    "import seaborn as sns\n",
    "\n",
    "# Import KMeans clutering class\n",
    "from sklearn.cluster import KMeans\n",
    "\n",
    "# Import silhouette_score function\n",
    "from sklearn.metrics import silhouette_score "
   ]
  },
  {
   "cell_type": "markdown",
   "metadata": {},
   "source": [
    "## Load the data and apply preprocessing"
   ]
  },
  {
   "cell_type": "markdown",
   "metadata": {},
   "source": [
    "### Load the data and merge the necessary information"
   ]
  },
  {
   "cell_type": "code",
   "execution_count": null,
   "metadata": {},
   "outputs": [],
   "source": [
    "# load the datasets\n",
    "sch_stat_df = pd.read_excel('Datasets/scottish_schools_stats.xlsx')\n",
    "sch_info_df = pd.read_excel('Datasets/scottish_schools_contact.xlsx', sheet_name='Open Schools')\n",
    "dep_df = pd.read_excel('Datasets/postcode_deprivation.xlsx')"
   ]
  },
  {
   "cell_type": "code",
   "execution_count": null,
   "metadata": {},
   "outputs": [],
   "source": [
    "# change Seed Code name to be matched with the stat dataset\n",
    "sch_info = sch_info_df.rename(columns={'Seed Code' : 'SeedCode'})"
   ]
  },
  {
   "cell_type": "code",
   "execution_count": null,
   "metadata": {},
   "outputs": [],
   "source": [
    "# merge info and stat datasets\n",
    "sch_df = sch_info.merge(sch_stat_df, on='SeedCode', how='left')"
   ]
  },
  {
   "cell_type": "code",
   "execution_count": null,
   "metadata": {},
   "outputs": [],
   "source": [
    "columns_to_remove = ['School Name_y', 'Centre Type', 'Address Line1',\n",
    "       'Address Line2', 'Address Line3', 'Unique Property Reference Number (UPRN)', 'Email', 'Phone Number',\n",
    "       'Website Address', 'Pre-school Department', 'Primary Department',\n",
    "       'Secondary Department', 'Special Department', 'Gaelic Unit',\n",
    "       'Integrated Special Unit', 'Denomination', 'Local Authority']\n",
    "\n",
    "\n",
    "sch_df.drop(columns=columns_to_remove, inplace=True)\n",
    "sch_df = sch_df.rename(columns={'School Name_x' : 'School Name'})\n",
    "sch_df = sch_df.rename(columns={'LA Name' : 'Local Authority'})"
   ]
  },
  {
   "cell_type": "code",
   "execution_count": null,
   "metadata": {},
   "outputs": [],
   "source": [
    "# create a function to return the deprivation value\n",
    "def get_dep(pos):\n",
    "    try:\n",
    "        dep_value = dep_df[dep_df['Postcode'] == pos]['SIMD2020v2_Quintile'].values[0]\n",
    "        return dep_value\n",
    "    \n",
    "    except:\n",
    "        return None"
   ]
  },
  {
   "cell_type": "code",
   "execution_count": null,
   "metadata": {},
   "outputs": [],
   "source": [
    "# Add the deprivaion quintile value for each school\n",
    "sch_df['Deprivation Quintile'] = list(map(get_dep, sch_df['Post Code']))"
   ]
  },
  {
   "cell_type": "code",
   "execution_count": null,
   "metadata": {},
   "outputs": [],
   "source": [
    "# drop null values\n",
    "sch_df = sch_df.dropna()"
   ]
  },
  {
   "cell_type": "markdown",
   "metadata": {},
   "source": [
    "### Preprocessing"
   ]
  },
  {
   "cell_type": "code",
   "execution_count": null,
   "metadata": {},
   "outputs": [],
   "source": [
    "# specify the numerical features\n",
    "numeric_columns = ['Pupils', 'DeprivationScore']\n",
    "\n",
    "# Import standard scaler to z-score normalize the data\n",
    "from sklearn.preprocessing import StandardScaler\n",
    "\n",
    "# Create a scaler object\n",
    "scaler = StandardScaler()\n",
    "\n",
    "# Scale the numeric columns\n",
    "scaled_values = scaler.fit_transform(df[numeric_columns])\n",
    "\n",
    "# Sonvert the numpy array of scaled values into a dataframe\n",
    "scaled_values = pd.DataFrame(scaled_values, columns = numeric_columns)\n",
    "\n",
    "# Describe the scaled columns: each has 0 mean and 1 standard deviation\n",
    "scaled_values.describe().round(2)"
   ]
  },
  {
   "cell_type": "markdown",
   "metadata": {},
   "source": [
    "## K-Means Clustering"
   ]
  },
  {
   "cell_type": "markdown",
   "metadata": {},
   "source": [
    "### Find the best k - the number of clusters to be formed"
   ]
  },
  {
   "cell_type": "markdown",
   "metadata": {},
   "source": [
    "Within-Cluster Sum of Squares (WCSS) method"
   ]
  },
  {
   "cell_type": "code",
   "execution_count": null,
   "metadata": {},
   "outputs": [],
   "source": [
    "# Create a list to store WCSS values\n",
    "wcss = []\n",
    "\n",
    "# Iterate in a range from 2 to 10, inclusive\n",
    "for k in range(2, 11):\n",
    "    km = KMeans(n_clusters = k, n_init = 25, random_state = 1234) # Create a cluster object for each k\n",
    "    km.fit(scaled_values) # Fit the scaled data\n",
    "    wcss.append(km.inertia_) # Add the inertia score to wcss list\n",
    "\n",
    "# Convert the wcss list into a pandas series object\n",
    "wcss_series = pd.Series(wcss, index = range(2, 11))\n",
    "\n",
    "# Draw a line chart showing the inertia score, or WCSS, for each k iterated\n",
    "plt.figure(figsize=(8, 6))\n",
    "ax = sns.lineplot(y = wcss_series, x = wcss_series.index)\n",
    "ax = sns.scatterplot(y = wcss_series, x = wcss_series.index, s = 150)\n",
    "ax = ax.set(xlabel = 'Number of Clusters (k)', \n",
    "            ylabel = 'Within Cluster Sum of Squares (WCSS)')"
   ]
  },
  {
   "cell_type": "markdown",
   "metadata": {},
   "source": [
    "Average Silhouette Method"
   ]
  },
  {
   "cell_type": "code",
   "execution_count": null,
   "metadata": {},
   "outputs": [],
   "source": [
    "# Create a list to store silhouette values\n",
    "silhouette = []\n",
    "\n",
    "# Iterate in a range from 2 to 10, inclusive\n",
    "for k in range(2, 11):\n",
    "    km = KMeans(n_clusters = k, n_init = 25, random_state = 1234) # Create a cluster object for each k\n",
    "    km.fit(scaled_values) # Fit the scaled data\n",
    "    silhouette.append(silhouette_score(scaled_values, km.labels_)) # Add the silhouette score to silhouette list\n",
    "\n",
    "# Convert the silhouette list into a pandas series object\n",
    "silhouette_series = pd.Series(silhouette, index = range(2, 11))\n",
    "\n",
    "# Draw a line chart showing the average silhouette score for each k iterated\n",
    "plt.figure(figsize=(8, 6))\n",
    "ax = sns.lineplot(y = silhouette_series, x = silhouette_series.index, color='green')\n",
    "ax = sns.scatterplot(y = silhouette_series, x = silhouette_series.index, s = 150, color='green')\n",
    "ax = ax.set(xlabel = 'Number of Clusters (k)', \n",
    "            ylabel = 'Average Silhouette Score')"
   ]
  }
 ],
 "metadata": {
  "kernelspec": {
   "display_name": "Python 3",
   "language": "python",
   "name": "python3"
  },
  "language_info": {
   "codemirror_mode": {
    "name": "ipython",
    "version": 3
   },
   "file_extension": ".py",
   "mimetype": "text/x-python",
   "name": "python",
   "nbconvert_exporter": "python",
   "pygments_lexer": "ipython3",
   "version": "3.11.3"
  }
 },
 "nbformat": 4,
 "nbformat_minor": 2
}
