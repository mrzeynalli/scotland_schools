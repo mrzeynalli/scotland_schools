{
 "cells": [
  {
   "cell_type": "code",
   "execution_count": 1,
   "metadata": {},
   "outputs": [],
   "source": [
    "# import necessary libraries\n",
    "import pandas as pd\n",
    "import matplotlib.pyplot as plt\n",
    "import seaborn as sns\n",
    "\n",
    "# Import KMeans clutering class\n",
    "from sklearn.cluster import KMeans\n",
    "\n",
    "# Import silhouette_score function\n",
    "from sklearn.metrics import silhouette_score "
   ]
  },
  {
   "cell_type": "markdown",
   "metadata": {},
   "source": [
    "## Load the data and apply preprocessing"
   ]
  },
  {
   "cell_type": "code",
   "execution_count": null,
   "metadata": {},
   "outputs": [],
   "source": [
    "# load the datasets\n",
    "sch_stat_df = pd.read_excel('Datasets/scottish_schools_stats.xlsx')\n",
    "sch_info_df = pd.read_excel('Datasets/scottish_schools_contact.xlsx', sheet_name='Open Schools')\n",
    "dep_df = pd.read_excel('Datasets/postcode_deprivation.xlsx')"
   ]
  },
  {
   "cell_type": "code",
   "execution_count": null,
   "metadata": {},
   "outputs": [],
   "source": [
    "# change Seed Code name to be matched with the stat dataset\n",
    "sch_info = sch_info_df.rename(columns={'Seed Code' : 'SeedCode'})"
   ]
  },
  {
   "cell_type": "code",
   "execution_count": null,
   "metadata": {},
   "outputs": [],
   "source": [
    "# merge info and stat datasets\n",
    "sch_df = sch_info.merge(sch_stat_df, on='SeedCode', how='left')"
   ]
  },
  {
   "cell_type": "code",
   "execution_count": null,
   "metadata": {},
   "outputs": [],
   "source": [
    "columns_to_remove = ['School Name_y', 'Centre Type', 'Address Line1',\n",
    "       'Address Line2', 'Address Line3', 'Unique Property Reference Number (UPRN)', 'Email', 'Phone Number',\n",
    "       'Website Address', 'Pre-school Department', 'Primary Department',\n",
    "       'Secondary Department', 'Special Department', 'Gaelic Unit',\n",
    "       'Integrated Special Unit', 'Denomination', 'Local Authority']\n",
    "\n",
    "\n",
    "sch_df.drop(columns=columns_to_remove, inplace=True)\n",
    "sch_df = sch_df.rename(columns={'School Name_x' : 'School Name'})\n",
    "sch_df = sch_df.rename(columns={'LA Name' : 'Local Authority'})"
   ]
  },
  {
   "cell_type": "code",
   "execution_count": null,
   "metadata": {},
   "outputs": [],
   "source": [
    "# create a function to return the deprivation value\n",
    "def get_dep(pos):\n",
    "    try:\n",
    "        dep_value = dep_df[dep_df['Postcode'] == pos]['SIMD2020v2_Quintile'].values[0]\n",
    "        return dep_value\n",
    "    \n",
    "    except:\n",
    "        return None"
   ]
  },
  {
   "cell_type": "code",
   "execution_count": null,
   "metadata": {},
   "outputs": [],
   "source": [
    "# Add the deprivaion quintile value for each school\n",
    "sch_df['Deprivation Quintile'] = list(map(get_dep, sch_df['Post Code']))"
   ]
  },
  {
   "cell_type": "code",
   "execution_count": null,
   "metadata": {},
   "outputs": [],
   "source": []
  },
  {
   "cell_type": "code",
   "execution_count": null,
   "metadata": {},
   "outputs": [],
   "source": []
  },
  {
   "cell_type": "code",
   "execution_count": null,
   "metadata": {},
   "outputs": [],
   "source": []
  },
  {
   "cell_type": "code",
   "execution_count": null,
   "metadata": {},
   "outputs": [],
   "source": []
  },
  {
   "cell_type": "code",
   "execution_count": null,
   "metadata": {},
   "outputs": [],
   "source": []
  }
 ],
 "metadata": {
  "kernelspec": {
   "display_name": "Python 3",
   "language": "python",
   "name": "python3"
  },
  "language_info": {
   "codemirror_mode": {
    "name": "ipython",
    "version": 3
   },
   "file_extension": ".py",
   "mimetype": "text/x-python",
   "name": "python",
   "nbconvert_exporter": "python",
   "pygments_lexer": "ipython3",
   "version": "3.11.3"
  }
 },
 "nbformat": 4,
 "nbformat_minor": 2
}
